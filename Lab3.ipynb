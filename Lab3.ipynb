{
 "cells": [
  {
   "metadata": {},
   "cell_type": "markdown",
   "source": "# Lab 3",
   "id": "63746e9de3495465"
  },
  {
   "metadata": {
    "ExecuteTime": {
     "end_time": "2025-03-05T00:28:57.498470Z",
     "start_time": "2025-03-05T00:28:57.091229Z"
    }
   },
   "cell_type": "code",
   "source": [
    "import utils as ut\n",
    "import numpy as np\n",
    "import matplotlib.pyplot as plt\n",
    "import glob\n",
    "import pandas as pd\n",
    "from importlib import reload\n",
    "import astropy.io.fits as fits\n",
    "from mpl_toolkits.axes_grid1.inset_locator import inset_axes, mark_inset\n",
    "\n",
    "plt.rcParams.update({'font.size': 13})\n",
    "\n",
    "%matplotlib inline\n",
    "pm = \"\\u00B1\"  # plus-minus symbol for use in uncertainties"
   ],
   "id": "a7cb721130916697",
   "outputs": [],
   "execution_count": 1
  },
  {
   "metadata": {},
   "cell_type": "code",
   "outputs": [],
   "execution_count": null,
   "source": "",
   "id": "e651424308a7890"
  }
 ],
 "metadata": {
  "kernelspec": {
   "display_name": "Python 3",
   "language": "python",
   "name": "python3"
  },
  "language_info": {
   "codemirror_mode": {
    "name": "ipython",
    "version": 2
   },
   "file_extension": ".py",
   "mimetype": "text/x-python",
   "name": "python",
   "nbconvert_exporter": "python",
   "pygments_lexer": "ipython2",
   "version": "2.7.6"
  }
 },
 "nbformat": 4,
 "nbformat_minor": 5
}
