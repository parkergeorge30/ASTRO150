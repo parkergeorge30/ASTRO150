{
 "cells": [
  {
   "metadata": {},
   "cell_type": "markdown",
   "source": "# Lab 1 Report",
   "id": "a2e3e36ecd3da2c3"
  },
  {
   "metadata": {
    "ExecuteTime": {
     "end_time": "2025-01-25T00:01:19.612389Z",
     "start_time": "2025-01-25T00:01:19.394909Z"
    }
   },
   "cell_type": "code",
   "source": [
    "import astropy.io.fits as fits\n",
    "import numpy as np\n",
    "import matplotlib.pyplot as plt"
   ],
   "id": "b2b0ef5acccf33b1",
   "outputs": [],
   "execution_count": 6
  },
  {
   "metadata": {
    "ExecuteTime": {
     "end_time": "2025-01-24T21:28:53.245508Z",
     "start_time": "2025-01-24T21:28:53.240919Z"
    }
   },
   "cell_type": "code",
   "source": [
    "def read_image(filename): # Function to read in the filename in the data folder and show the image of the fits file\n",
    "    arr = fits.getdata(filename)\n",
    "    hdr = fits.open(filename)\n",
    "    hdr.info()\n",
    "    hdr.close()\n",
    "    plt.imshow(arr, cmap='gray', origin='lower')\n",
    "    plt.title(filename)\n",
    "    plt.xlabel('pixels(x)')\n",
    "    plt.ylabel('pixels(y)')\n",
    "    plt.show()\n",
    "\n",
    "def get_data(filename): # Function for getting and displaying the info of the fits file\n",
    "    hdr = fits.open(filename)\n",
    "    return hdr[0].header['object'], hdr[0].data, hdr.close()\n",
    "\n",
    "def mean_std(filename): # Function for computing the mean and the standard deviation of the current fits file data\n",
    "    arr = fits.getdata(filename)\n",
    "    x = arr.flatten()\n",
    "    m1 = np.sum(x)/np.size(x) # <x> = mean\n",
    "    m2 = np.sum(x**2)/np.size(x) # <x^2>\n",
    "    m12 = np.absolute(m2-m1**2) # Absolute value of <x^2> - <x>^2\n",
    "    std = np.sqrt(m12) # square root of <x^2> - <x>^2\n",
    "    print(\"mean:\", m1)\n",
    "    print(\"standard deviation:\", std)\n",
    "\n",
    "def histogram(array,hmin=None, hmax=None, title=None): # Function for creating a histogram of the desired filename\n",
    "    array = []\n",
    "    fig, ax = plt.subplots()\n",
    "    for i in range(43,75): # fetches the filenames every 5 files for the 9 different exposure times\n",
    "        filename = 'Lab1_data/d20%d.fits'%(i)\n",
    "        arr = fits.getdata(filename) # stores the filename in an array\n",
    "        #hdr = fits.open(filename) # opens the file and gets the info of each\n",
    "        x = arr.flatten()\n",
    "        if hmin is None:\n",
    "            hmin = x.min()\n",
    "        if hmax is None:\n",
    "            hmax = x.max()\n",
    "         # initialize bins and empty count arr\n",
    "        hr = np.arange(hmin, hmax + 1)\n",
    "        hist = np.zeros(hmax - hmin + 1, dtype=int)\n",
    "        # count each value in bins\n",
    "        for value in x:\n",
    "            if hmin < value < hmax:\n",
    "                hist[value - hmin] += 1\n",
    "\n",
    "        ax.plot(hr,hist)\n",
    "        ax.set_xlim([0,40000])\n",
    "        #ax.set_ylim([0,100000])\n",
    "        plt.xlabel('counts(ADU)')\n",
    "        plt.ylabel('frequency')\n",
    "    plt.show()\n",
    "\n"
   ],
   "id": "7cf5cbe21b36fbe2",
   "outputs": [],
   "execution_count": 3
  },
  {
   "metadata": {
    "ExecuteTime": {
     "end_time": "2025-01-22T00:42:34.373116Z",
     "start_time": "2025-01-22T00:42:08.947988Z"
    }
   },
   "cell_type": "code",
   "source": [
    "read_image(\"Lab1_data/d2085.fits\")\n",
    "get_data(\"Lab1_data/d2085.fits\")\n",
    "mean_std(\"Lab1_data/d2085.fits\")\n",
    "histogram(\"Lab1_data/d2085.fits\")"
   ],
   "id": "2f7d75a43ede4e12",
   "outputs": [
    {
     "name": "stdout",
     "output_type": "stream",
     "text": [
      "Filename: Lab1_data/d2085.fits\n",
      "No.    Name      Ver    Type      Cards   Dimensions   Format\n",
      "  0  PRIMARY       1 PrimaryHDU     157   (1056, 1024)   int16 (rescales to uint16)   \n"
     ]
    },
    {
     "data": {
      "text/plain": [
       "<Figure size 640x480 with 1 Axes>"
      ],
      "image/png": "[encoded data removed]"
     },
     "metadata": {},
     "output_type": "display_data"
    },
    {
     "name": "stdout",
     "output_type": "stream",
     "text": [
      "mean: 63487.85912808505\n",
      "standard deviation: 63487.85011474623\n"
     ]
    },
    {
     "ename": "KeyboardInterrupt",
     "evalue": "",
     "output_type": "error",
     "traceback": [
      "\u001B[0;31m---------------------------------------------------------------------------\u001B[0m",
      "\u001B[0;31mKeyboardInterrupt\u001B[0m                         Traceback (most recent call last)",
      "Cell \u001B[0;32mIn[7], line 4\u001B[0m\n\u001B[1;32m      2\u001B[0m get_data(\u001B[38;5;124m\"\u001B[39m\u001B[38;5;124mLab1_data/d2085.fits\u001B[39m\u001B[38;5;124m\"\u001B[39m)\n\u001B[1;32m      3\u001B[0m mean_std(\u001B[38;5;124m\"\u001B[39m\u001B[38;5;124mLab1_data/d2085.fits\u001B[39m\u001B[38;5;124m\"\u001B[39m)\n\u001B[0;32m----> 4\u001B[0m \u001B[43mhistogram\u001B[49m\u001B[43m(\u001B[49m\u001B[38;5;124;43m\"\u001B[39;49m\u001B[38;5;124;43mLab1_data/d2085.fits\u001B[39;49m\u001B[38;5;124;43m\"\u001B[39;49m\u001B[43m)\u001B[49m\n",
      "Cell \u001B[0;32mIn[6], line 34\u001B[0m, in \u001B[0;36mhistogram\u001B[0;34m(filename)\u001B[0m\n\u001B[1;32m     32\u001B[0m hist \u001B[38;5;241m=\u001B[39m []\n\u001B[1;32m     33\u001B[0m \u001B[38;5;28;01mfor\u001B[39;00m i \u001B[38;5;129;01min\u001B[39;00m hr:\n\u001B[0;32m---> 34\u001B[0m     counts \u001B[38;5;241m=\u001B[39m \u001B[38;5;28mlen\u001B[39m(\u001B[43mnp\u001B[49m\u001B[38;5;241;43m.\u001B[39;49m\u001B[43mwhere\u001B[49m\u001B[43m(\u001B[49m\u001B[43mx\u001B[49m\u001B[38;5;241;43m==\u001B[39;49m\u001B[43mi\u001B[49m\u001B[43m)\u001B[49m[\u001B[38;5;241m0\u001B[39m])\n\u001B[1;32m     35\u001B[0m     hist\u001B[38;5;241m.\u001B[39mappend(counts)\n\u001B[1;32m     36\u001B[0m plt\u001B[38;5;241m.\u001B[39mplot(hr,hist)\n",
      "File \u001B[0;32m~/UCSD/ASTR150/.venv/lib/python3.13/site-packages/numpy/_core/multiarray.py:383\u001B[0m, in \u001B[0;36mwhere\u001B[0;34m(condition, x, y)\u001B[0m\n\u001B[1;32m    291\u001B[0m \u001B[38;5;250m    \u001B[39m\u001B[38;5;124;03m\"\"\"\u001B[39;00m\n\u001B[1;32m    292\u001B[0m \u001B[38;5;124;03m    inner(a, b, /)\u001B[39;00m\n\u001B[1;32m    293\u001B[0m \n\u001B[0;32m   (...)\u001B[0m\n\u001B[1;32m    378\u001B[0m \n\u001B[1;32m    379\u001B[0m \u001B[38;5;124;03m    \"\"\"\u001B[39;00m\n\u001B[1;32m    380\u001B[0m     \u001B[38;5;28;01mreturn\u001B[39;00m (a, b)\n\u001B[0;32m--> 383\u001B[0m \u001B[38;5;129m@array_function_from_c_func_and_dispatcher\u001B[39m(_multiarray_umath\u001B[38;5;241m.\u001B[39mwhere)\n\u001B[1;32m    384\u001B[0m \u001B[38;5;28;01mdef\u001B[39;00m\u001B[38;5;250m \u001B[39m\u001B[38;5;21mwhere\u001B[39m(condition, x\u001B[38;5;241m=\u001B[39m\u001B[38;5;28;01mNone\u001B[39;00m, y\u001B[38;5;241m=\u001B[39m\u001B[38;5;28;01mNone\u001B[39;00m):\n\u001B[1;32m    385\u001B[0m \u001B[38;5;250m    \u001B[39m\u001B[38;5;124;03m\"\"\"\u001B[39;00m\n\u001B[1;32m    386\u001B[0m \u001B[38;5;124;03m    where(condition, [x, y], /)\u001B[39;00m\n\u001B[1;32m    387\u001B[0m \n\u001B[0;32m   (...)\u001B[0m\n\u001B[1;32m    454\u001B[0m \u001B[38;5;124;03m           [ 0,  3, -1]])\u001B[39;00m\n\u001B[1;32m    455\u001B[0m \u001B[38;5;124;03m    \"\"\"\u001B[39;00m\n\u001B[1;32m    456\u001B[0m     \u001B[38;5;28;01mreturn\u001B[39;00m (condition, x, y)\n",
      "\u001B[0;31mKeyboardInterrupt\u001B[0m: "
     ]
    }
   ],
   "execution_count": 7
  },
  {
   "metadata": {
    "ExecuteTime": {
     "end_time": "2025-01-22T01:09:52.129851Z",
     "start_time": "2025-01-22T01:09:52.116405Z"
    }
   },
   "cell_type": "code",
   "source": [
    "get_data(\"Lab1_data/d2048.fits\")\n",
    "\n"
   ],
   "id": "2427d78af765fd30",
   "outputs": [
    {
     "data": {
      "text/plain": [
       "('flat',\n",
       " array([[1063, 1052, 1069, ..., 1018, 1025, 1016],\n",
       "        [1113, 1092, 1096, ..., 1018, 1027, 1022],\n",
       "        [1124, 1082, 1085, ..., 1023, 1027, 1017],\n",
       "        ...,\n",
       "        [1030, 1035, 1028, ..., 1020, 1007, 1018],\n",
       "        [1035, 1035, 1037, ..., 1012, 1016, 1010],\n",
       "        [1046, 1032, 1036, ..., 1003, 1004, 1014]],\n",
       "       shape=(1024, 1056), dtype=uint16),\n",
       " None)"
      ]
     },
     "execution_count": 32,
     "metadata": {},
     "output_type": "execute_result"
    }
   ],
   "execution_count": 32
  },
  {
   "metadata": {
    "ExecuteTime": {
     "end_time": "2025-01-22T00:42:34.377080Z",
     "start_time": "2025-01-21T23:54:18.662862Z"
    }
   },
   "cell_type": "code",
   "source": "mean_std(\"Lab1_data/d2048.fits\")",
   "id": "fcb9697dde0237d5",
   "outputs": [
    {
     "name": "stdout",
     "output_type": "stream",
     "text": [
      "mean: 1946.376795913234\n",
      "standard deviation: 1937.9232528893006\n"
     ]
    }
   ],
   "execution_count": 103
  },
  {
   "metadata": {
    "ExecuteTime": {
     "end_time": "2025-01-24T02:29:10.902510Z",
     "start_time": "2025-01-24T02:29:05.558559Z"
    }
   },
   "cell_type": "code",
   "source": [
    "array = []\n",
    "histogram(array)"
   ],
   "id": "6cb8dfce0a935368",
   "outputs": [
    {
     "name": "stderr",
     "output_type": "stream",
     "text": [
      "/var/folders/85/g1dhcfl16zj89wp16k8k6bym0000gn/T/ipykernel_83183/752519883.py:39: RuntimeWarning: overflow encountered in scalar add\n",
      "  hr = np.arange(hmin, hmax + 1)\n",
      "/var/folders/85/g1dhcfl16zj89wp16k8k6bym0000gn/T/ipykernel_83183/752519883.py:39: RuntimeWarning: overflow encountered in scalar subtract\n",
      "  hr = np.arange(hmin, hmax + 1)\n"
     ]
    },
    {
     "data": {
      "text/plain": [
       "<Figure size 640x480 with 1 Axes>"
      ],
      "image/png": "[encoded data removed]"
     },
     "metadata": {},
     "output_type": "display_data"
    }
   ],
   "execution_count": 22
  },
  {
   "metadata": {
    "ExecuteTime": {
     "end_time": "2025-01-24T22:39:12.756152Z",
     "start_time": "2025-01-24T22:39:12.753535Z"
    }
   },
   "cell_type": "code",
   "source": [
    "def data(x):\n",
    "    tot = []\n",
    "    for i in range(43,85):\n",
    "        filename = 'Lab1_data/d20%d.fits'%(i)\n",
    "        arr = fits.getdata(filename)\n",
    "        y = arr.flatten()\n",
    "        #print(y)\n",
    "        tot.append(y)\n",
    "    return tot"
   ],
   "id": "ce6be07f716a0b82",
   "outputs": [],
   "execution_count": 2
  },
  {
   "metadata": {},
   "cell_type": "code",
   "source": [
    "dat = []\n",
    "dat = data(dat)\n",
    "dat = np.array(dat)"
   ],
   "id": "b10c760d0ec7f0f4",
   "outputs": [],
   "execution_count": null
  },
  {
   "metadata": {
    "ExecuteTime": {
     "end_time": "2025-01-25T00:01:12.232885Z",
     "start_time": "2025-01-25T00:01:12.230485Z"
    }
   },
   "cell_type": "code",
   "source": [
    "def zeros(n):\n",
    "    return [0] * n"
   ],
   "id": "522b2634d293b2c9",
   "outputs": [],
   "execution_count": 3
  },
  {
   "metadata": {
    "ExecuteTime": {
     "end_time": "2025-01-25T00:01:24.448059Z",
     "start_time": "2025-01-25T00:01:24.445828Z"
    }
   },
   "cell_type": "code",
   "source": [
    "def mean(x): # take an empty array and spit out an array with the mean counts of one image of each exposure time\n",
    "    r = range(32,85)\n",
    "    n = len(r)\n",
    "    tot = zeros(n)\n",
    "    #x = []\n",
    "    #x = data(x)\n",
    "    for i in r: # fetches the filenames every 5 files for the 9 different exposure times\n",
    "        filename = 'Lab1_data/d20%d.fits'%(i)\n",
    "        arr = fits.getdata(filename)\n",
    "        y = arr.flatten() # flattens the array so that we can sum over the elements\n",
    "        m = np.sum(y)/np.size(y)\n",
    "        tot[i-32] += m\n",
    "    tot = np.array(tot) # make the output a numpy array\n",
    "    return tot"
   ],
   "id": "281534308db25b10",
   "outputs": [],
   "execution_count": 7
  },
  {
   "metadata": {
    "ExecuteTime": {
     "end_time": "2025-01-25T00:01:33.055258Z",
     "start_time": "2025-01-25T00:01:32.962247Z"
    }
   },
   "cell_type": "code",
   "source": [
    "xbar = []\n",
    "xbar = mean(xbar)\n",
    "xbar"
   ],
   "id": "15f63c7721a92856",
   "outputs": [
    {
     "data": {
      "text/plain": [
       "array([ 1098.02885668,  1096.97994625,  1095.83934715,  1094.70750843,\n",
       "        1094.22102125,  1098.20890577,  1099.88282452,  1098.77467762,\n",
       "        1096.35280725,  1095.85574526,  1094.62265015,  2309.61505404,\n",
       "        1622.52944022,  1508.84904156,  1561.65906409,  1608.62973485,\n",
       "        1946.37679591,  2001.35543268,  1926.79125052,  2008.2757892 ,\n",
       "        1927.34117543,  4096.26098818,  2830.31408969,  3421.3034335 ,\n",
       "        3028.87938066,  2810.92073475,  5635.02506418,  7416.96276486,\n",
       "        6303.50559766,  4888.6676645 ,  5863.41804736,  8585.34904156,\n",
       "       10799.5416158 ,  9431.12713346,  9370.04008623,  8616.56287823,\n",
       "       16590.81545466, 16170.44714078, 15333.20166293, 19810.39910334,\n",
       "       15759.73328469, 31892.60956735, 29083.66966571, 29139.97419877,\n",
       "       34104.94520615, 35084.19360259, 63463.12925397, 63451.38243612,\n",
       "       63457.60425637, 63368.4337898 , 63219.27355125, 63508.39428156,\n",
       "       63495.05644642])"
      ]
     },
     "execution_count": 9,
     "metadata": {},
     "output_type": "execute_result"
    }
   ],
   "execution_count": 9
  },
  {
   "metadata": {
    "ExecuteTime": {
     "end_time": "2025-01-25T00:18:55.217961Z",
     "start_time": "2025-01-25T00:18:55.214283Z"
    }
   },
   "cell_type": "code",
   "source": [
    "def std(x): # take an empty array and spit out an array with the mean counts of one image of each exposure time\n",
    "    r = range(32,85)\n",
    "    n = len(r)\n",
    "    tot = zeros(n)\n",
    "    for i in r: # fetches the filenames every 5 files for the 9 different exposure times\n",
    "        filename = 'Lab1_data/d20%d.fits'%(i)\n",
    "        arr = fits.getdata(filename)\n",
    "        y = arr.flatten() # flattens the array so that we can sum over the elements\n",
    "        m = np.sum(y)/np.size(y)\n",
    "        for j in y:\n",
    "            tot[i-32] += ((j-m)**2)/len(y)\n",
    "    tot = np.sqrt(tot)\n",
    "    return tot"
   ],
   "id": "251cfb733ee33e79",
   "outputs": [],
   "execution_count": 22
  },
  {
   "metadata": {
    "ExecuteTime": {
     "end_time": "2025-01-25T00:19:05.420916Z",
     "start_time": "2025-01-25T00:18:56.341607Z"
    }
   },
   "cell_type": "code",
   "source": [
    "s = []\n",
    "s = std(s)\n",
    "s\n"
   ],
   "id": "cada1a6ec62d0bbd",
   "outputs": [
    {
     "data": {
      "text/plain": [
       "array([ 1980.40593553,  1978.61493367,  1979.08492425,  1970.49486159,\n",
       "        1982.10766422,  1967.4801502 ,  1976.78523228,  1976.25581177,\n",
       "        1960.28223306,  1972.79233605,  1972.8881346 ,  1942.63557927,\n",
       "        1967.42916633,  1936.83630842,  1959.18213354,  1950.79538177,\n",
       "        1936.81259849,  1962.04920625,  1959.64942105,  1946.57623218,\n",
       "        1948.95169556,  1954.07816969,  1949.16583776,  1963.7870761 ,\n",
       "        1943.12341178,  1955.08399882,  2046.0977358 ,  2176.40964997,\n",
       "        2093.74344445,  2011.26282473,  2066.1031132 ,  2294.86389163,\n",
       "        2553.86408897,  2382.53421768,  2380.09669396,  2296.54503819,\n",
       "        3412.21914759,  3347.51086956,  3213.78196102,  3956.03794661,\n",
       "        3278.57458976,  6011.53857317,  5560.07883038,  5568.79480163,\n",
       "        6378.85431179,  6534.3651978 , 11255.15241826, 11260.56945272,\n",
       "       11259.39918173, 11258.16876048, 11247.8479536 , 11176.49489613,\n",
       "       11202.30485417])"
      ]
     },
     "execution_count": 23,
     "metadata": {},
     "output_type": "execute_result"
    }
   ],
   "execution_count": 23
  },
  {
   "metadata": {
    "ExecuteTime": {
     "end_time": "2025-01-24T22:49:59.640772Z",
     "start_time": "2025-01-24T22:49:59.638999Z"
    }
   },
   "cell_type": "code",
   "source": "",
   "id": "4c9ed1a81ef16986",
   "outputs": [],
   "execution_count": null
  },
  {
   "metadata": {
    "ExecuteTime": {
     "end_time": "2025-01-25T00:21:42.757501Z",
     "start_time": "2025-01-25T00:21:42.754735Z"
    }
   },
   "cell_type": "code",
   "source": [
    "y = xbar.flatten()\n",
    "mom = np.sum(y)/np.size(y)\n",
    "print(mom)"
   ],
   "id": "a1fbe591bbaacc5b",
   "outputs": [
    {
     "name": "stdout",
     "output_type": "stream",
     "text": [
      "15292.755443243655\n"
     ]
    }
   ],
   "execution_count": 24
  },
  {
   "metadata": {
    "ExecuteTime": {
     "end_time": "2025-01-25T00:21:44.501129Z",
     "start_time": "2025-01-25T00:21:44.452239Z"
    }
   },
   "cell_type": "code",
   "source": [
    "fig, ax = plt.subplots()\n",
    "xbar.sort()\n",
    "s.sort()\n",
    "ax.plot(xbar,s**2,'-o')\n",
    "#ax.plot(xline,yline,'-')\n",
    "#plt.yscale('log')\n",
    "#plt.xscale('log')\n",
    "plt.show()"
   ],
   "id": "d166c47c6e160575",
   "outputs": [
    {
     "data": {
      "text/plain": [
       "<Figure size 640x480 with 1 Axes>"
      ],
      "image/png": "[encoded data removed]"
     },
     "metadata": {},
     "output_type": "display_data"
    }
   ],
   "execution_count": 25
  },
  {
   "metadata": {},
   "cell_type": "code",
   "outputs": [],
   "execution_count": null,
   "source": "",
   "id": "4203f85fbd7629a5"
  }
 ],
 "metadata": {
  "kernelspec": {
   "name": "python3",
   "language": "python",
   "display_name": "Python 3 (ipykernel)"
  }
 },
 "nbformat": 5,
 "nbformat_minor": 9
}
