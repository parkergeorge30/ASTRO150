{
 "cells": [
  {
   "metadata": {},
   "cell_type": "markdown",
   "source": "# Lab 1 Report",
   "id": "a2e3e36ecd3da2c3"
  },
  {
   "metadata": {
    "ExecuteTime": {
     "end_time": "2025-01-22T00:44:57.785037Z",
     "start_time": "2025-01-22T00:44:57.556017Z"
    }
   },
   "cell_type": "code",
   "source": [
    "import astropy.io.fits as fits\n",
    "import numpy as np\n",
    "import matplotlib.pyplot as plt"
   ],
   "id": "b2b0ef5acccf33b1",
   "outputs": [],
   "execution_count": 1
  },
  {
   "metadata": {
    "ExecuteTime": {
     "end_time": "2025-01-22T00:44:58.229915Z",
     "start_time": "2025-01-22T00:44:58.224996Z"
    }
   },
   "cell_type": "code",
   "source": [
    "def read_image(filename): # Function to read in the filename in the data folder and show the image of the fits file\n",
    "    arr = fits.getdata(filename)\n",
    "    hdr = fits.open(filename)\n",
    "    hdr.info()\n",
    "    hdr.close()\n",
    "    plt.imshow(arr, cmap='gray', origin='lower')\n",
    "    plt.title(filename)\n",
    "    plt.xlabel('pixels(x)')\n",
    "    plt.ylabel('pixels(y)')\n",
    "    plt.show()\n",
    "\n",
    "def get_data(filename): # Function for getting and displaying the info of the fits file\n",
    "    hdr = fits.open(filename)\n",
    "    return hdr[0].header['object'], hdr[0].data, hdr.close()\n",
    "\n",
    "def mean_std(filename): # Function for computing the mean and the standard deviation of the current fits file data\n",
    "    arr = fits.getdata(filename)\n",
    "    x = arr.flatten()\n",
    "    m1 = np.sum(x)/np.size(x) # <x> = mean\n",
    "    m2 = np.sum(x**2)/np.size(x) # <x^2>\n",
    "    m12 = np.absolute(m2-m1**2) # Absolute value of <x^2> - <x>^2\n",
    "    std = np.sqrt(m12) # square root of <x^2> - <x>^2\n",
    "    print(\"mean:\", m1)\n",
    "    print(\"standard deviation:\", std)\n",
    "\n",
    "def histogram(filename): # Function for creating a histogram of the desired filename\n",
    "    arr = fits.getdata(filename)\n",
    "    x = arr.flatten()\n",
    "    hmin = 0\n",
    "    hmax = x.max()\n",
    "    hr = np.arange(hmin,hmax+1.)\n",
    "    hist = []\n",
    "    for i in hr:\n",
    "        counts = len(np.where(x==i)[0])\n",
    "        hist.append(counts)\n",
    "    plt.plot(hr,hist)\n",
    "    plt.title(filename)\n",
    "    # plt.xlim(0,7000)\n",
    "    plt.xlabel('counts(ADU)')\n",
    "    plt.ylabel('frequency')\n",
    "    plt.show()\n",
    "\n"
   ],
   "id": "7cf5cbe21b36fbe2",
   "outputs": [],
   "execution_count": 2
  },
  {
   "metadata": {
    "ExecuteTime": {
     "end_time": "2025-01-22T00:42:34.373116Z",
     "start_time": "2025-01-22T00:42:08.947988Z"
    }
   },
   "cell_type": "code",
   "source": [
    "read_image(\"Lab1_data/d2085.fits\")\n",
    "get_data(\"Lab1_data/d2085.fits\")\n",
    "mean_std(\"Lab1_data/d2085.fits\")\n",
    "histogram(\"Lab1_data/d2085.fits\")"
   ],
   "id": "2f7d75a43ede4e12",
   "outputs": [
    {
     "name": "stdout",
     "output_type": "stream",
     "text": [
      "Filename: Lab1_data/d2085.fits\n",
      "No.    Name      Ver    Type      Cards   Dimensions   Format\n",
      "  0  PRIMARY       1 PrimaryHDU     157   (1056, 1024)   int16 (rescales to uint16)   \n"
     ]
    },
    {
     "data": {
      "text/plain": [
       "<Figure size 640x480 with 1 Axes>"
      ],
      "image/png": "[encoded data removed]"
     },
     "metadata": {},
     "output_type": "display_data"
    },
    {
     "name": "stdout",
     "output_type": "stream",
     "text": [
      "mean: 63487.85912808505\n",
      "standard deviation: 63487.85011474623\n"
     ]
    },
    {
     "ename": "KeyboardInterrupt",
     "evalue": "",
     "output_type": "error",
     "traceback": [
      "\u001B[0;31m---------------------------------------------------------------------------\u001B[0m",
      "\u001B[0;31mKeyboardInterrupt\u001B[0m                         Traceback (most recent call last)",
      "Cell \u001B[0;32mIn[7], line 4\u001B[0m\n\u001B[1;32m      2\u001B[0m get_data(\u001B[38;5;124m\"\u001B[39m\u001B[38;5;124mLab1_data/d2085.fits\u001B[39m\u001B[38;5;124m\"\u001B[39m)\n\u001B[1;32m      3\u001B[0m mean_std(\u001B[38;5;124m\"\u001B[39m\u001B[38;5;124mLab1_data/d2085.fits\u001B[39m\u001B[38;5;124m\"\u001B[39m)\n\u001B[0;32m----> 4\u001B[0m \u001B[43mhistogram\u001B[49m\u001B[43m(\u001B[49m\u001B[38;5;124;43m\"\u001B[39;49m\u001B[38;5;124;43mLab1_data/d2085.fits\u001B[39;49m\u001B[38;5;124;43m\"\u001B[39;49m\u001B[43m)\u001B[49m\n",
      "Cell \u001B[0;32mIn[6], line 34\u001B[0m, in \u001B[0;36mhistogram\u001B[0;34m(filename)\u001B[0m\n\u001B[1;32m     32\u001B[0m hist \u001B[38;5;241m=\u001B[39m []\n\u001B[1;32m     33\u001B[0m \u001B[38;5;28;01mfor\u001B[39;00m i \u001B[38;5;129;01min\u001B[39;00m hr:\n\u001B[0;32m---> 34\u001B[0m     counts \u001B[38;5;241m=\u001B[39m \u001B[38;5;28mlen\u001B[39m(\u001B[43mnp\u001B[49m\u001B[38;5;241;43m.\u001B[39;49m\u001B[43mwhere\u001B[49m\u001B[43m(\u001B[49m\u001B[43mx\u001B[49m\u001B[38;5;241;43m==\u001B[39;49m\u001B[43mi\u001B[49m\u001B[43m)\u001B[49m[\u001B[38;5;241m0\u001B[39m])\n\u001B[1;32m     35\u001B[0m     hist\u001B[38;5;241m.\u001B[39mappend(counts)\n\u001B[1;32m     36\u001B[0m plt\u001B[38;5;241m.\u001B[39mplot(hr,hist)\n",
      "File \u001B[0;32m~/UCSD/ASTR150/.venv/lib/python3.13/site-packages/numpy/_core/multiarray.py:383\u001B[0m, in \u001B[0;36mwhere\u001B[0;34m(condition, x, y)\u001B[0m\n\u001B[1;32m    291\u001B[0m \u001B[38;5;250m    \u001B[39m\u001B[38;5;124;03m\"\"\"\u001B[39;00m\n\u001B[1;32m    292\u001B[0m \u001B[38;5;124;03m    inner(a, b, /)\u001B[39;00m\n\u001B[1;32m    293\u001B[0m \n\u001B[0;32m   (...)\u001B[0m\n\u001B[1;32m    378\u001B[0m \n\u001B[1;32m    379\u001B[0m \u001B[38;5;124;03m    \"\"\"\u001B[39;00m\n\u001B[1;32m    380\u001B[0m     \u001B[38;5;28;01mreturn\u001B[39;00m (a, b)\n\u001B[0;32m--> 383\u001B[0m \u001B[38;5;129m@array_function_from_c_func_and_dispatcher\u001B[39m(_multiarray_umath\u001B[38;5;241m.\u001B[39mwhere)\n\u001B[1;32m    384\u001B[0m \u001B[38;5;28;01mdef\u001B[39;00m\u001B[38;5;250m \u001B[39m\u001B[38;5;21mwhere\u001B[39m(condition, x\u001B[38;5;241m=\u001B[39m\u001B[38;5;28;01mNone\u001B[39;00m, y\u001B[38;5;241m=\u001B[39m\u001B[38;5;28;01mNone\u001B[39;00m):\n\u001B[1;32m    385\u001B[0m \u001B[38;5;250m    \u001B[39m\u001B[38;5;124;03m\"\"\"\u001B[39;00m\n\u001B[1;32m    386\u001B[0m \u001B[38;5;124;03m    where(condition, [x, y], /)\u001B[39;00m\n\u001B[1;32m    387\u001B[0m \n\u001B[0;32m   (...)\u001B[0m\n\u001B[1;32m    454\u001B[0m \u001B[38;5;124;03m           [ 0,  3, -1]])\u001B[39;00m\n\u001B[1;32m    455\u001B[0m \u001B[38;5;124;03m    \"\"\"\u001B[39;00m\n\u001B[1;32m    456\u001B[0m     \u001B[38;5;28;01mreturn\u001B[39;00m (condition, x, y)\n",
      "\u001B[0;31mKeyboardInterrupt\u001B[0m: "
     ]
    }
   ],
   "execution_count": 7
  },
  {
   "metadata": {
    "ExecuteTime": {
     "end_time": "2025-01-22T01:09:52.129851Z",
     "start_time": "2025-01-22T01:09:52.116405Z"
    }
   },
   "cell_type": "code",
   "source": [
    "get_data(\"Lab1_data/d2048.fits\")\n",
    "\n"
   ],
   "id": "2427d78af765fd30",
   "outputs": [
    {
     "data": {
      "text/plain": [
       "('flat',\n",
       " array([[1063, 1052, 1069, ..., 1018, 1025, 1016],\n",
       "        [1113, 1092, 1096, ..., 1018, 1027, 1022],\n",
       "        [1124, 1082, 1085, ..., 1023, 1027, 1017],\n",
       "        ...,\n",
       "        [1030, 1035, 1028, ..., 1020, 1007, 1018],\n",
       "        [1035, 1035, 1037, ..., 1012, 1016, 1010],\n",
       "        [1046, 1032, 1036, ..., 1003, 1004, 1014]],\n",
       "       shape=(1024, 1056), dtype=uint16),\n",
       " None)"
      ]
     },
     "execution_count": 32,
     "metadata": {},
     "output_type": "execute_result"
    }
   ],
   "execution_count": 32
  },
  {
   "metadata": {
    "ExecuteTime": {
     "end_time": "2025-01-22T00:42:34.377080Z",
     "start_time": "2025-01-21T23:54:18.662862Z"
    }
   },
   "cell_type": "code",
   "source": "mean_std(\"Lab1_data/d2048.fits\")",
   "id": "fcb9697dde0237d5",
   "outputs": [
    {
     "name": "stdout",
     "output_type": "stream",
     "text": [
      "mean: 1946.376795913234\n",
      "standard deviation: 1937.9232528893006\n"
     ]
    }
   ],
   "execution_count": 103
  },
  {
   "metadata": {},
   "cell_type": "code",
   "source": "histogram(\"Lab1_data/d2048.fits\")",
   "id": "6cb8dfce0a935368",
   "outputs": [],
   "execution_count": null
  },
  {
   "metadata": {
    "ExecuteTime": {
     "end_time": "2025-01-22T20:26:49.239187Z",
     "start_time": "2025-01-22T20:26:49.015058Z"
    }
   },
   "cell_type": "code",
   "source": [
    "i = 43\n",
    "xbar = []\n",
    "s = []\n",
    "while i<=85:\n",
    "    filename = \"Lab1_data/d20%d.fits\"%(i)\n",
    "    arr = fits.getdata(filename)\n",
    "    x = arr.flatten()\n",
    "    m1 = np.sum(x)/np.size(x)\n",
    "    xbar.append(m1)\n",
    "    m2 = np.sum(x**2)/np.size(x)\n",
    "    m12 = np.absolute(m2-m1**2)\n",
    "    std = np.sqrt(m12)\n",
    "    s.append(std)\n",
    "    i+=1\n",
    "\n",
    "xbar = np.array(xbar)\n",
    "s = np.array(s)\n"
   ],
   "id": "cada1a6ec62d0bbd",
   "outputs": [],
   "execution_count": 34
  },
  {
   "metadata": {
    "ExecuteTime": {
     "end_time": "2025-01-22T20:26:49.989010Z",
     "start_time": "2025-01-22T20:26:49.985499Z"
    }
   },
   "cell_type": "code",
   "source": [
    "print(xbar)\n",
    "print(s)"
   ],
   "id": "4c9ed1a81ef16986",
   "outputs": [
    {
     "name": "stdout",
     "output_type": "stream",
     "text": [
      "[ 2309.61505404  1622.52944022  1508.84904156  1561.65906409\n",
      "  1608.62973485  1946.37679591  2001.35543268  1926.79125052\n",
      "  2008.2757892   1927.34117543  4096.26098818  2830.31408969\n",
      "  3421.3034335   3028.87938066  2810.92073475  5635.02506418\n",
      "  7416.96276486  6303.50559766  4888.6676645   5863.41804736\n",
      "  8585.34904156 10799.5416158   9431.12713346  9370.04008623\n",
      "  8616.56287823 16590.81545466 16170.44714078 15333.20166293\n",
      " 19810.39910334 15759.73328469 31892.60956735 29083.66966571\n",
      " 29139.97419877 34104.94520615 35084.19360259 63463.12925397\n",
      " 63451.38243612 63457.60425637 63368.4337898  63219.27355125\n",
      " 63508.39428156 63495.05644642 63487.85912809]\n",
      "[ 2302.54472666  1612.40897972  1497.96104629  1551.25584639\n",
      "  1598.29662633  1937.92325289  1993.25430652  1918.19614472\n",
      "  2000.22786647  1918.78868447  4092.3771736   2824.49836639\n",
      "  3416.52369199  3023.50259666  2805.09842316  5632.16336022\n",
      "  7414.77740766  6300.94550103  4885.31081188  5860.67095017\n",
      "  8583.48301262 10798.02055246  9429.38934549  9368.29892874\n",
      "  8614.69086184 16589.86856226 16169.47852674 15332.17987994\n",
      " 19809.57985133 15758.73980287 31892.11542317 29083.10526759\n",
      " 29139.41268573 34104.47461581 35083.72674662 63463.11998974\n",
      " 63451.36976116 63457.59362547 63368.40133151 63219.21918443\n",
      " 63508.385624   63495.04857014 63487.85011475]\n"
     ]
    }
   ],
   "execution_count": 35
  },
  {
   "metadata": {
    "ExecuteTime": {
     "end_time": "2025-01-22T00:45:03.737121Z",
     "start_time": "2025-01-22T00:45:03.734336Z"
    }
   },
   "cell_type": "code",
   "source": [
    "y = xbar.flatten()\n",
    "mom = np.sum(y)/np.size(y)\n",
    "print(mom)"
   ],
   "id": "a1fbe591bbaacc5b",
   "outputs": [
    {
     "name": "stdout",
     "output_type": "stream",
     "text": [
      "20045.126123945844\n"
     ]
    }
   ],
   "execution_count": 5
  },
  {
   "metadata": {
    "ExecuteTime": {
     "end_time": "2025-01-22T01:09:09.093260Z",
     "start_time": "2025-01-22T01:09:09.053693Z"
    }
   },
   "cell_type": "code",
   "source": [
    "fig, ax = plt.subplots()\n",
    "xbar.sort()\n",
    "s.sort()\n",
    "ax.plot(xbar,s**2,'-o')\n",
    "#ax.plot(xline,yline,'-')\n",
    "#plt.yscale('log')\n",
    "#plt.xscale('log')\n",
    "plt.show()"
   ],
   "id": "d166c47c6e160575",
   "outputs": [
    {
     "data": {
      "text/plain": [
       "<Figure size 640x480 with 1 Axes>"
      ],
      "image/png": "[encoded data removed]"
     },
     "metadata": {},
     "output_type": "display_data"
    }
   ],
   "execution_count": 31
  },
  {
   "metadata": {},
   "cell_type": "code",
   "outputs": [],
   "execution_count": null,
   "source": "",
   "id": "4203f85fbd7629a5"
  }
 ],
 "metadata": {
  "kernelspec": {
   "name": "python3",
   "language": "python",
   "display_name": "Python 3 (ipykernel)"
  }
 },
 "nbformat": 5,
 "nbformat_minor": 9
}
