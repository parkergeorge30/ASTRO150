{
 "cells": [
  {
   "metadata": {},
   "cell_type": "markdown",
   "source": "# Lab 1 Report",
   "id": "a2e3e36ecd3da2c3"
  },
  {
   "metadata": {
    "ExecuteTime": {
     "end_time": "2025-01-15T23:50:05.299823Z",
     "start_time": "2025-01-15T23:50:05.296953Z"
    }
   },
   "cell_type": "code",
   "source": [
    "import astropy.io.fits as fits\n",
    "import numpy as np\n",
    "import matplotlib.pyplot as plt"
   ],
   "id": "7cf5cbe21b36fbe2",
   "outputs": [],
   "execution_count": 4
  },
  {
   "metadata": {},
   "cell_type": "code",
   "outputs": [],
   "execution_count": null,
   "source": "",
   "id": "2f7d75a43ede4e12"
  }
 ],
 "metadata": {
  "kernelspec": {
   "name": "python3",
   "language": "python",
   "display_name": "Python 3 (ipykernel)"
  }
 },
 "nbformat": 5,
 "nbformat_minor": 9
}
